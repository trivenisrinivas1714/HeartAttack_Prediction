{
 "cells": [
  {
   "cell_type": "code",
   "execution_count": 1,
   "id": "1fab12e8",
   "metadata": {},
   "outputs": [],
   "source": [
    "from sklearn.metrics import confusion_matrix, classification_report\n",
    "import seaborn as sn\n",
    "import matplotlib.mlab as mlab\n",
    "import matplotlib.pyplot as plt\n",
    "from sklearn import preprocessing\n",
    "import statsmodels.api as sm\n",
    "import scipy.optimize as opt\n",
    "import numpy as np\n",
    "import pylab as pl\n",
    "import pandas as pd\n",
    "from sklearn.model_selection import train_test_split\n",
    "from sklearn.linear_model import LogisticRegression\n",
    "from sklearn.metrics import jaccard_score"
   ]
  },
  {
   "cell_type": "code",
   "execution_count": 2,
   "id": "fcadfe92",
   "metadata": {},
   "outputs": [],
   "source": [
    "# Dataset\n",
    "chd_data = pd.read_csv('heart.csv')\n",
    "chd_data.drop(['education'], inplace=True, axis=1)"
   ]
  },
  {
   "cell_type": "code",
   "execution_count": 4,
   "id": "a206e343",
   "metadata": {},
   "outputs": [
    {
     "name": "stdout",
     "output_type": "stream",
     "text": [
      "   male  age  currentSmoker  cigsPerDay  BPMeds  prevalentStroke  \\\n",
      "0     1   39              0         0.0     0.0                0   \n",
      "1     0   46              0         0.0     0.0                0   \n",
      "2     1   48              1        20.0     0.0                0   \n",
      "3     0   61              1        30.0     0.0                0   \n",
      "4     0   46              1        23.0     0.0                0   \n",
      "\n",
      "   prevalentHyp  diabetes  totChol  sysBP  diaBP    BMI  heartRate  glucose  \\\n",
      "0             0         0    195.0  106.0   70.0  26.97       80.0     77.0   \n",
      "1             0         0    250.0  121.0   81.0  28.73       95.0     76.0   \n",
      "2             0         0    245.0  127.5   80.0  25.34       75.0     70.0   \n",
      "3             1         0    225.0  150.0   95.0  28.58       65.0    103.0   \n",
      "4             0         0    285.0  130.0   84.0  23.10       85.0     85.0   \n",
      "\n",
      "   TenYearCHD  \n",
      "0           0  \n",
      "1           0  \n",
      "2           0  \n",
      "3           1  \n",
      "4           0   (1390, 15)\n",
      "0    1178\n",
      "1     212\n",
      "Name: TenYearCHD, dtype: int64\n"
     ]
    }
   ],
   "source": [
    "# Removing NaN\n",
    "chd_data.dropna(axis=0, inplace=True)\n",
    "print(chd_data.head(), chd_data.shape)\n",
    "print(chd_data.TenYearCHD.value_counts())"
   ]
  },
  {
   "cell_type": "code",
   "execution_count": 5,
   "id": "34773e98",
   "metadata": {},
   "outputs": [
    {
     "data": {
      "image/png": "[encoded data removed]",
      "text/plain": [
       "<Figure size 576x432 with 1 Axes>"
      ]
     },
     "metadata": {
      "needs_background": "light"
     },
     "output_type": "display_data"
    }
   ],
   "source": [
    "# Counting no. of patients affected with CHD\n",
    "\n",
    "plt.figure(figsize=(8, 6))\n",
    "sn.countplot(x=\"TenYearCHD\", data=chd_data, palette=\"BuGn_r\")\n",
    "plt.show()"
   ]
  },
  {
   "cell_type": "code",
   "execution_count": 6,
   "id": "9750bf87",
   "metadata": {},
   "outputs": [],
   "source": [
    "# Train and test sets\n",
    "# ----------------------\n",
    "# Declaration of x and y variables (axis)\n",
    "x = np.asarray(chd_data[['age', 'male', 'cigsPerDay', 'totChol', 'glucose']])\n",
    "y = np.asarray(chd_data['TenYearCHD'])"
   ]
  },
  {
   "cell_type": "code",
   "execution_count": 7,
   "id": "20f8728f",
   "metadata": {},
   "outputs": [],
   "source": [
    "# Normalize the dataset\n",
    "x = preprocessing.StandardScaler().fit(x).transform(x)"
   ]
  },
  {
   "cell_type": "code",
   "execution_count": 8,
   "id": "2cee60ed",
   "metadata": {},
   "outputs": [
    {
     "name": "stdout",
     "output_type": "stream",
     "text": [
      "Train set:  (973, 5) (973,)\n",
      "Test set:  (417, 5) (417,)\n"
     ]
    }
   ],
   "source": [
    "# Actually train and test x and y sets\n",
    "x_train, x_test, y_train, y_test = train_test_split(\n",
    "    x, y, test_size=0.3, random_state=4)\n",
    "print('Train set: ', x_train.shape, y_train.shape)\n",
    "print('Test set: ', x_test.shape, y_test.shape)"
   ]
  },
  {
   "cell_type": "code",
   "execution_count": 9,
   "id": "2f857c8e",
   "metadata": {},
   "outputs": [],
   "source": [
    "# Modeling the dataset\n",
    "log_reg = LogisticRegression()\n",
    "log_reg.fit(x_train, y_train)\n",
    "y_pred = log_reg.predict(x_test)"
   ]
  },
  {
   "cell_type": "code",
   "execution_count": 10,
   "id": "5d03d484",
   "metadata": {},
   "outputs": [
    {
     "name": "stdout",
     "output_type": "stream",
     "text": [
      "\n",
      "Accuracy of the model in Jaccard score is :  0.014285714285714285\n"
     ]
    }
   ],
   "source": [
    "# Evaluation and accuracy\n",
    "print('')\n",
    "print('Accuracy of the model in Jaccard score is : ',\n",
    "      jaccard_score(y_test, y_pred))"
   ]
  },
  {
   "cell_type": "code",
   "execution_count": 11,
   "id": "f42bb16d",
   "metadata": {},
   "outputs": [
    {
     "data": {
      "image/png": "[encoded data removed]",
      "text/plain": [
       "<Figure size 648x432 with 2 Axes>"
      ]
     },
     "metadata": {
      "needs_background": "light"
     },
     "output_type": "display_data"
    },
    {
     "name": "stdout",
     "output_type": "stream",
     "text": [
      "The details for confusion matrix is : \n",
      "              precision    recall  f1-score   support\n",
      "\n",
      "           0       0.84      0.99      0.91       351\n",
      "           1       0.20      0.02      0.03        66\n",
      "\n",
      "    accuracy                           0.83       417\n",
      "   macro avg       0.52      0.50      0.47       417\n",
      "weighted avg       0.74      0.83      0.77       417\n",
      "\n"
     ]
    }
   ],
   "source": [
    "# Confusion Matrix\n",
    "cm = confusion_matrix(y_test, y_pred)\n",
    "cm_setup = pd.DataFrame(data=cm, columns=[\n",
    "                        'Preddicted:0', 'Preddicted:1'], index=['Actual:0', 'Actual:1'])\n",
    "plt.figure(figsize=(9, 6))\n",
    "sn.heatmap(cm_setup, annot=True, fmt='d', cmap=\"Greens\")\n",
    "plt.show()\n",
    "\n",
    "print('The details for confusion matrix is : ')\n",
    "print(classification_report(y_test, y_pred))"
   ]
  },
  {
   "cell_type": "code",
   "execution_count": null,
   "id": "4a66c650",
   "metadata": {},
   "outputs": [],
   "source": []
  }
 ],
 "metadata": {
  "kernelspec": {
   "display_name": "Python 3",
   "language": "python",
   "name": "python3"
  },
  "language_info": {
   "codemirror_mode": {
    "name": "ipython",
    "version": 3
   },
   "file_extension": ".py",
   "mimetype": "text/x-python",
   "name": "python",
   "nbconvert_exporter": "python",
   "pygments_lexer": "ipython3",
   "version": "3.8.8"
  }
 },
 "nbformat": 4,
 "nbformat_minor": 5
}
